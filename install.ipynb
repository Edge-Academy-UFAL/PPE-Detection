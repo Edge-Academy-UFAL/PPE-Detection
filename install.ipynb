{
 "cells": [
  {
   "cell_type": "code",
   "execution_count": null,
   "metadata": {},
   "outputs": [],
   "source": [
    "pip install cvzone ultralytics hydra-core matplotlib numpy opencv-python Pillow PyYAML requests scipy torch torchvision tqdm filterpy scikit-image lap\n"
   ]
  },
  {
   "cell_type": "code",
   "execution_count": 5,
   "metadata": {},
   "outputs": [
    {
     "name": "stdout",
     "output_type": "stream",
     "text": [
      "Collecting cvzone\n",
      "  Using cached cvzone-1.6.1.tar.gz (25 kB)\n",
      "  Installing build dependencies: started\n",
      "  Installing build dependencies: finished with status 'done'\n",
      "  Getting requirements to build wheel: started\n",
      "  Getting requirements to build wheel: finished with status 'done'\n",
      "  Installing backend dependencies: started\n",
      "  Installing backend dependencies: finished with status 'done'\n",
      "  Preparing metadata (pyproject.toml): started\n",
      "  Preparing metadata (pyproject.toml): finished with status 'done'\n",
      "Requirement already satisfied: opencv-python in c:\\users\\edvar\\onedrive\\documentos\\projetos-study\\ppe-detection\\.venv\\lib\\site-packages (from cvzone) (4.9.0.80)\n",
      "Requirement already satisfied: numpy in c:\\users\\edvar\\onedrive\\documentos\\projetos-study\\ppe-detection\\.venv\\lib\\site-packages (from cvzone) (1.26.4)\n",
      "Building wheels for collected packages: cvzone\n",
      "  Building wheel for cvzone (pyproject.toml): started\n",
      "  Building wheel for cvzone (pyproject.toml): finished with status 'done'\n",
      "  Created wheel for cvzone: filename=cvzone-1.6.1-py3-none-any.whl size=26310 sha256=1a1c2ab062b431d4398856ed4ce2b6462b939d28bb99c260a4e0b12f9df95ce1\n",
      "  Stored in directory: c:\\users\\edvar\\appdata\\local\\packages\\pythonsoftwarefoundation.python.3.11_qbz5n2kfra8p0\\localcache\\local\\pip\\cache\\wheels\\ab\\36\\ec\\47be2d4e59dc4289e684d5b0dde54d1e72e51a614e57690e85\n",
      "Successfully built cvzone\n",
      "Installing collected packages: cvzone\n",
      "Successfully installed cvzone-1.6.1\n",
      "Note: you may need to restart the kernel to use updated packages.\n"
     ]
    }
   ],
   "source": [
    "pip install cvzone"
   ]
  }
 ],
 "metadata": {
  "kernelspec": {
   "display_name": ".venv",
   "language": "python",
   "name": "python3"
  },
  "language_info": {
   "codemirror_mode": {
    "name": "ipython",
    "version": 3
   },
   "file_extension": ".py",
   "mimetype": "text/x-python",
   "name": "python",
   "nbconvert_exporter": "python",
   "pygments_lexer": "ipython3",
   "version": "3.11.8"
  }
 },
 "nbformat": 4,
 "nbformat_minor": 2
}
